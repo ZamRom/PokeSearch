{
 "cells": [
  {
   "cell_type": "code",
   "execution_count": 7,
   "metadata": {},
   "outputs": [],
   "source": [
    "import MySQLdb\n",
    "\n",
    "db = MySQLdb.connect(  # esto hace la conexion a la base de datos\n",
    "    host=\"localhost\",  # el puerto es 3308 porque es el puerto que\n",
    "    user=\"root\",  # le deje a mariaDB\n",
    "    password=\"zamromxd\",\n",
    "    database=\"PokeSearch\",\n",
    "    port=3308,\n",
    ")\n",
    "c = db.cursor()"
   ]
  },
  {
   "cell_type": "code",
   "execution_count": 44,
   "metadata": {},
   "outputs": [],
   "source": [
    "class Pokemon:\n",
    "    def __init__(self, name: str):\n",
    "        c.execute(f\"select id,atk,satk,def,sdef,total_stat,name from pokemon where name='{name}';\")\n",
    "        data = c.fetchall()\n",
    "        self.id = data[0][0]\n",
    "        self.atk= data[0][1]\n",
    "        self.defe= data[0][3]\n",
    "        self.satk= data[0][2]\n",
    "        self.sdef= data[0][4]\n",
    "        self.total= data[0][5]\n",
    "        self.name = data[0][6]\n",
    "        c.execute(f\"select id_type from pok_typ where id_pokemon={data[0][0]};\")\n",
    "        T = c.fetchall()\n",
    "        self.types = []\n",
    "        self.relations = dict()\n",
    "        for t_id in T:\n",
    "            self.types.append(t_id[0])\n",
    "            if t_id[0] not in self.relations:\n",
    "                self.relations[t_id[0]] = dict()\n",
    "            c.execute(f\"select relation,id_type_2 from relation_type where id_type_1={t_id[0]};\")\n",
    "            temp = c.fetchall()\n",
    "            for rt in temp:\n",
    "                if rt[0] not in self.relations[t_id[0]]:\n",
    "                    self.relations[t_id[0]][rt[0]] = []\n",
    "                    self.relations[t_id[0]][rt[0]].append(rt[1])\n",
    "                else:\n",
    "                    self.relations[t_id[0]][rt[0]].append(rt[1])\n",
    "        self.moves = {\"physical\": dict(), \"status\": dict(), \"special\": dict()}\n",
    "        c.execute(\n",
    "            f\"select M.name,M.id_type,M.damage_class from move as M inner join pok_mov as PM on  PM.id_move=M.id and PM.id_pokemon={self.id};\"\n",
    "        )\n",
    "        M = c.fetchall()\n",
    "        for att in M:\n",
    "            if att[1] not in self.moves[att[2]]:\n",
    "                self.moves[att[2]][att[1]] = list()\n",
    "            self.moves[att[2]][att[1]].append(att[0])\n",
    "\n",
    "        def calcular(self,other:Pokemon):\n",
    "            puntos = 0\n",
    "            if self.atk>self.satk:\n",
    "                pri_atk = \"physical\"\n",
    "            elif self.atk<self.satk:\n",
    "                pri_atk = \"special\"\n",
    "            if self.defe > self.sdef:\n",
    "                pri_def = \"physical\"\n",
    "            elif self.defe < self.sdef:\n",
    "                pri_def = \"special\"\n",
    "            if other.atk > other.satk:\n",
    "                other_atk = \"physical\"\n",
    "            elif other.atk < other.satk:\n",
    "                other_atk = \"special\"\n",
    "            if other.defe > other.sdef:\n",
    "                other_def = \"physical\"\n",
    "            elif other.defe < other.sdef:\n",
    "                other_def = \"special\"\n",
    "            \n",
    "            \n",
    "            "
   ]
  },
  {
   "cell_type": "code",
   "execution_count": 49,
   "metadata": {},
   "outputs": [],
   "source": [
    "p = \"bulbasaur\"\n",
    "poke = Pokemon(p)\n",
    "# p = input('Nombre del pokemon: ')\n",
    "#c.execute(f\"select * from pokemon where name='{p}';\")\n",
    "#result = c.fetchall()\n",
    "pokes = dict()\n",
    "c.execute(f'select name from pokemon where total_stat>={poke.total-20} and total_stat<={poke.total+20} and id!={poke.id};')\n",
    "result = c.fetchall()\n",
    "for r in result:\n",
    " pokes[r[0]] = Pokemon(r[0])"
   ]
  },
  {
   "cell_type": "code",
   "execution_count": 48,
   "metadata": {},
   "outputs": [
    {
     "data": {
      "text/plain": [
       "{'physical': {1: ['cut',\n",
       "   'bind',\n",
       "   'headbutt',\n",
       "   'tackle',\n",
       "   'body-slam',\n",
       "   'take-down',\n",
       "   'double-edge',\n",
       "   'strength',\n",
       "   'rage',\n",
       "   'bide',\n",
       "   'skull-bash',\n",
       "   'false-swipe',\n",
       "   'return',\n",
       "   'frustration',\n",
       "   'facade',\n",
       "   'secret-power',\n",
       "   'natural-gift'],\n",
       "  12: ['vine-whip',\n",
       "   'razor-leaf',\n",
       "   'bullet-seed',\n",
       "   'seed-bomb',\n",
       "   'power-whip',\n",
       "   'grassy-glide',\n",
       "   'trailblaze'],\n",
       "  16: ['outrage'],\n",
       "  7: ['fury-cutter'],\n",
       "  2: ['rock-smash'],\n",
       "  17: ['knock-off']},\n",
       " 'status': {1: ['swords-dance',\n",
       "   'growl',\n",
       "   'growth',\n",
       "   'mimic',\n",
       "   'double-team',\n",
       "   'defense-curl',\n",
       "   'flash',\n",
       "   'substitute',\n",
       "   'protect',\n",
       "   'endure',\n",
       "   'swagger',\n",
       "   'attract',\n",
       "   'sleep-talk',\n",
       "   'safeguard',\n",
       "   'sweet-scent',\n",
       "   'nature-power',\n",
       "   'helping-hand',\n",
       "   'captivate',\n",
       "   'work-up',\n",
       "   'confide'],\n",
       "  12: ['leech-seed',\n",
       "   'sleep-powder',\n",
       "   'synthesis',\n",
       "   'ingrain',\n",
       "   'grass-whistle',\n",
       "   'worry-seed',\n",
       "   'grassy-terrain'],\n",
       "  4: ['poison-powder', 'toxic'],\n",
       "  7: ['string-shot'],\n",
       "  14: ['light-screen', 'reflect', 'amnesia', 'rest'],\n",
       "  8: ['curse'],\n",
       "  18: ['charm'],\n",
       "  10: ['sunny-day']},\n",
       " 'special': {1: ['razor-wind',\n",
       "   'snore',\n",
       "   'hidden-power',\n",
       "   'weather-ball',\n",
       "   'round',\n",
       "   'echoed-voice',\n",
       "   'tera-blast'],\n",
       "  12: ['mega-drain',\n",
       "   'solar-beam',\n",
       "   'petal-dance',\n",
       "   'giga-drain',\n",
       "   'magical-leaf',\n",
       "   'energy-ball',\n",
       "   'leaf-storm',\n",
       "   'grass-knot',\n",
       "   'grass-pledge'],\n",
       "  4: ['sludge', 'sludge-bomb', 'venoshock', 'acid-spray'],\n",
       "  5: ['mud-slap']}}"
      ]
     },
     "execution_count": 48,
     "metadata": {},
     "output_type": "execute_result"
    }
   ],
   "source": [
    "poke.moves"
   ]
  },
  {
   "cell_type": "code",
   "execution_count": 50,
   "metadata": {},
   "outputs": [
    {
     "data": {
      "text/plain": [
       "{4: {'double_damage_from': [5, 14],\n",
       "  'double_damage_to': [12, 18],\n",
       "  'half_damage_from': [2, 4, 7, 12, 18],\n",
       "  'half_damage_to': [4, 5, 6, 8],\n",
       "  'no_damage_to': [9]},\n",
       " 12: {'double_damage_from': [3, 4, 7, 10, 15],\n",
       "  'double_damage_to': [5, 6, 11],\n",
       "  'half_damage_from': [5, 11, 12, 13],\n",
       "  'half_damage_to': [3, 4, 7, 9, 10, 12, 16]}}"
      ]
     },
     "execution_count": 50,
     "metadata": {},
     "output_type": "execute_result"
    }
   ],
   "source": [
    "poke.relations"
   ]
  },
  {
   "cell_type": "code",
   "execution_count": null,
   "metadata": {},
   "outputs": [],
   "source": []
  },
  {
   "cell_type": "code",
   "execution_count": null,
   "metadata": {},
   "outputs": [],
   "source": []
  }
 ],
 "metadata": {
  "kernelspec": {
   "display_name": "Python 3",
   "language": "python",
   "name": "python3"
  },
  "language_info": {
   "codemirror_mode": {
    "name": "ipython",
    "version": 3
   },
   "file_extension": ".py",
   "mimetype": "text/x-python",
   "name": "python",
   "nbconvert_exporter": "python",
   "pygments_lexer": "ipython3",
   "version": "3.10.6"
  }
 },
 "nbformat": 4,
 "nbformat_minor": 2
}
